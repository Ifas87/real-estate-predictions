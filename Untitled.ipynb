{
 "cells": [
  {
   "cell_type": "code",
   "execution_count": 12,
   "id": "08102ce9",
   "metadata": {},
   "outputs": [],
   "source": [
    "import pandas as pd\n",
    "from sklearn.model_selection import train_test_split\n",
    "from sklearn\n"
   ]
  },
  {
   "cell_type": "code",
   "execution_count": 18,
   "id": "243e347b",
   "metadata": {},
   "outputs": [
    {
     "name": "stdout",
     "output_type": "stream",
     "text": [
      "Index(['id', 'neighborhood', 'latitude', 'longitude', 'price', 'size_in_sqft',\n",
      "       'price_per_sqft', 'no_of_bedrooms', 'no_of_bathrooms', 'quality',\n",
      "       'maid_room', 'unfurnished', 'balcony', 'barbecue_area',\n",
      "       'built_in_wardrobes', 'central_ac', 'childrens_play_area',\n",
      "       'childrens_pool', 'concierge', 'covered_parking', 'kitchen_appliances',\n",
      "       'lobby_in_building', 'maid_service', 'networked', 'pets_allowed',\n",
      "       'private_garden', 'private_gym', 'private_jacuzzi', 'private_pool',\n",
      "       'security', 'shared_gym', 'shared_pool', 'shared_spa', 'study',\n",
      "       'vastu_compliant', 'view_of_landmark', 'view_of_water',\n",
      "       'walk_in_closet'],\n",
      "      dtype='object')\n",
      "(1333, 4)\n",
      "(1333,)\n"
     ]
    }
   ],
   "source": [
    "dataset = pd.read_csv(\"properties_data.csv\")\n",
    "print(dataset.columns)\n",
    "\n",
    "required_columns = ['id', 'neighborhood', 'size_in_sqft', 'price_per_sqft']\n",
    "input_dataset = dataset[required_columns]\n",
    "output_dataset = dataset['no_of_bedrooms']\n",
    "\n",
    "X_train, X_val, y_train, y_val = train_test_split(input_dataset, output_dataset, random_state=1, test_size=0.3)\n",
    "\n",
    "print(X_train.shape)\n",
    "print(y_train.shape)"
   ]
  }
 ],
 "metadata": {
  "kernelspec": {
   "display_name": "base",
   "language": "python",
   "name": "python3"
  },
  "language_info": {
   "codemirror_mode": {
    "name": "ipython",
    "version": 3
   },
   "file_extension": ".py",
   "mimetype": "text/x-python",
   "name": "python",
   "nbconvert_exporter": "python",
   "pygments_lexer": "ipython3",
   "version": "3.9.12"
  },
  "vscode": {
   "interpreter": {
    "hash": "b9def2f813a8812fb466bd7542bf0a8be3352f1624e09f201ddf9a0e32f217e7"
   }
  }
 },
 "nbformat": 4,
 "nbformat_minor": 5
}
