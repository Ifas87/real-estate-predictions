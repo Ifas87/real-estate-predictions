{
 "cells": [
  {
   "cell_type": "code",
   "execution_count": 21,
   "id": "08102ce9",
   "metadata": {},
   "outputs": [],
   "source": [
    "import pandas as pd\n",
    "from sklearn.model_selection import train_test_split\n",
    "from sklearn.linear_model import LinearRegression\n"
   ]
  },
  {
   "cell_type": "code",
   "execution_count": 30,
   "id": "243e347b",
   "metadata": {},
   "outputs": [
    {
     "data": {
      "text/plain": [
       "0.6467233727862287"
      ]
     },
     "execution_count": 30,
     "metadata": {},
     "output_type": "execute_result"
    }
   ],
   "source": [
    "dataset = pd.read_csv(\"properties_data.csv\")\n",
    "# print(dataset.columns)\n",
    "\n",
    "required_columns = ['id', 'size_in_sqft', 'price_per_sqft']\n",
    "input_dataset = dataset[required_columns]\n",
    "output_dataset = dataset['no_of_bedrooms']\n",
    "\n",
    "X_train, X_val, y_train, y_val = train_test_split(input_dataset, output_dataset, random_state=1, test_size=0.3)\n",
    "\n",
    "# print(X_train.shape)\n",
    "# print(y_train.shape)\n",
    "\n",
    "model = LinearRegression().fit(X_train, y_train)\n",
    "model.score(X_val, y_val)\n"
   ]
  }
 ],
 "metadata": {
  "kernelspec": {
   "display_name": "base",
   "language": "python",
   "name": "python3"
  },
  "language_info": {
   "codemirror_mode": {
    "name": "ipython",
    "version": 3
   },
   "file_extension": ".py",
   "mimetype": "text/x-python",
   "name": "python",
   "nbconvert_exporter": "python",
   "pygments_lexer": "ipython3",
   "version": "3.9.12"
  },
  "vscode": {
   "interpreter": {
    "hash": "b9def2f813a8812fb466bd7542bf0a8be3352f1624e09f201ddf9a0e32f217e7"
   }
  }
 },
 "nbformat": 4,
 "nbformat_minor": 5
}
